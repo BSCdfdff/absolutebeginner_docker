{
 "cells": [
  {
   "cell_type": "markdown",
   "metadata": {},
   "source": [
    "# Docker Commands\n",
    "\n",
    "___\n",
    "\n",
    "+ run - start Container\n",
    "+ ps - list running containers\n",
    "+ stop - stop container\n",
    "+ rm - remove container\n",
    "+ images - list images\n",
    "+ rmi - remove images\n",
    "+ pull - pull imag (without running it)\n",
    "+ Append a command\n",
    "+ Exec Command"
   ]
  },
  {
   "cell_type": "markdown",
   "metadata": {},
   "source": [
    "## Go onto docker hub\n",
    "\n",
    "__\n",
    "\n",
    "Check hub.docker.com, click explore to see the mosy popular ones\n"
   ]
  },
  {
   "cell_type": "markdown",
   "metadata": {},
   "source": [
    "## Run Command\n",
    "\n",
    "___\n",
    "\n",
    "Runs the container of an image that sits on the local os, if it already exist. If it does not exist, it will go to dockerhub, then pull the image down to host.\n",
    "\n",
    "```\n",
    "docker run ubuntu\n",
    "\n",
    "```\n",
    "The above will run, but then exit, as nothing is executing. In order to run the container, and allow su to do something, we need to run bash (\"bash\"), and give us some interactive shell (\"-it\") to work in.\n",
    "\n",
    "\n",
    "```\n",
    "docker run -it ubuntu bash\n",
    "\n",
    "```\n",
    "\n",
    "Looks like it keeps a trail of all ran containers, like a trail.\n",
    "\n",
    "Using ```-it``` logs me into the container directly."
   ]
  },
  {
   "cell_type": "markdown",
   "metadata": {},
   "source": [
    "## Ps Command\n",
    "\n",
    "___\n",
    "\n",
    "List the running container\n",
    "\n",
    "```\n",
    "docker ps\n",
    "``\n",
    "\n",
    "List all running, as well as exited containers\n",
    "\n",
    "\n",
    "```\n",
    "docker ps -a\n",
    "```\n"
   ]
  },
  {
   "cell_type": "markdown",
   "metadata": {},
   "source": [
    "## stop Command\n",
    "\n",
    "___\n",
    "\n",
    "Stop container, specifying the container random name or container id (can be first 3 / 4 letters)\n",
    "\n",
    "\n",
    "```\n",
    "docker stop 2ae\n",
    "``\n",
    "\n",
    "This will stop the container: if you have started the container with:\n",
    "\n",
    "```\n",
    "docker run -it ubuntu bash\n",
    "\n",
    "```\n",
    "it will issue an ```exit command```\n",
    "\n",
    "\n",
    "\n"
   ]
  },
  {
   "cell_type": "markdown",
   "metadata": {},
   "source": [
    "## rm  Command\n",
    "\n",
    "___\n",
    "\n",
    "Removes a docker container from local\n",
    "\n",
    "```\n",
    "docker rm 2ae\n",
    "```"
   ]
  },
  {
   "cell_type": "markdown",
   "metadata": {},
   "source": [
    "## images Command\n",
    "\n",
    "___\n",
    "\n",
    "list the docker images\n",
    "\n",
    "\n",
    "```\n",
    "docker images\n",
    "```\n"
   ]
  },
  {
   "cell_type": "markdown",
   "metadata": {},
   "source": [
    "## rmi Command\n",
    "\n",
    "___\n",
    "\n",
    "remove docker images, using docker name   or docker image id (first few unique letters)\n",
    "\n",
    "```\n",
    "docker rmi\n",
    "```\n",
    "\n",
    "Must make sure the container is stopped.\n",
    "\n",
    "Steps to remove an image.\n",
    "\n",
    "1. Stop the container\n",
    "2. Remove the container\n",
    "3. Remove the image\n",
    "\n",
    "\n",
    "\n"
   ]
  },
  {
   "cell_type": "markdown",
   "metadata": {},
   "source": [
    "## pull Command\n",
    "\n",
    "___\n",
    "\n",
    "pull the docker image, wthout running it. So when we run it later, we dont have to wait\n",
    "\n",
    "\n",
    "```\n",
    "docker pull ubuntu\n",
    "```\n",
    "\n"
   ]
  },
  {
   "cell_type": "markdown",
   "metadata": {},
   "source": [
    "## Append a command\n",
    "___\n",
    "\n",
    "As stated with run command above, lets restate it here:\n",
    "\n",
    "\n",
    "```\n",
    "docker run ubuntu\n",
    "\n",
    "```\n",
    "Wont do anything, as we did not say what must be done with the base image.\n",
    "\n",
    "We need to say what it need to run: script, service or command\n",
    "\n",
    "It will this exit immediately.\n",
    "\n",
    "Docker containers are meant to run services or applications\n",
    "\n",
    "So we need to issues some command like\n",
    "\n",
    "\n",
    "```\n",
    "docker run -it ubuntu bash\n",
    "\n",
    "```"
   ]
  },
  {
   "cell_type": "markdown",
   "metadata": {},
   "source": [
    "## Exec Command\n",
    "\n",
    "___\n",
    "\n",
    "What if we want to execute a command inside a running container. E.g. I would like to see a file inside a running container:\n",
    "\n",
    "First we see if the container is running\n",
    "\n",
    "\n",
    "```\n",
    "docker ps\n",
    "```\n",
    "\n",
    "I can use a docker ```exec``` command to execute a command on the docker container. Main point here is : that you executing the command from outside the container.\n",
    "\n",
    "```\n",
    "docker run  ubuntu bash sleep 1000\n",
    "\n",
    "```\n",
    "\n",
    "Now we can get the container id\n",
    "\n",
    "\n",
    "\n",
    "Lets sleep it for 1000 seconds. So it is there, but sleeping for 16 min. And we did not give ourselves interactive access. So the only way to interactive with it is using exec command\n",
    "\n",
    "\n",
    "```\n",
    "docker ps\n",
    "```\n",
    "\n",
    "Then we can see the contents of the hosts file\n",
    "\n",
    "```\n",
    "sudo docker exec b139 cat /etc/hosts\n",
    "\n",
    "```"
   ]
  },
  {
   "cell_type": "code",
   "execution_count": null,
   "metadata": {},
   "outputs": [],
   "source": []
  },
  {
   "cell_type": "code",
   "execution_count": null,
   "metadata": {},
   "outputs": [],
   "source": []
  },
  {
   "cell_type": "code",
   "execution_count": null,
   "metadata": {},
   "outputs": [],
   "source": []
  }
 ],
 "metadata": {
  "kernelspec": {
   "display_name": "C++17",
   "language": "C++17",
   "name": "xcpp17"
  },
  "language_info": {
   "codemirror_mode": "text/x-c++src",
   "file_extension": ".cpp",
   "mimetype": "text/x-c++src",
   "name": "c++",
   "version": "17"
  }
 },
 "nbformat": 4,
 "nbformat_minor": 2
}
